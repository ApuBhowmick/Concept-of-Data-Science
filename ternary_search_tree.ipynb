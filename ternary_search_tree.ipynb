{
 "cells": [
  {
   "cell_type": "markdown",
   "id": "0cc0504a",
   "metadata": {},
   "source": [
    "A ternary search tree has nodes with the following attributes:\n",
    "* a character, can be `None`;\n",
    "* a Boolean flag that indicates whether the character represented\n",
    "  by this node has been the last in a string that was inserted in the\n",
    "  tree;\n",
    "* the \"less-than\" child;\n",
    "* the \"equals\" child and\n",
    "* the \"larger-than\" child.\n",
    "\n",
    "The data structure should support the following operations:\n",
    "* string insert\n",
    "* string search\n",
    "* prefix string search\n",
    "* return the number of strings stored in the data structure\n",
    "* return all strings stored in the data structure\n",
    "\n",
    "Also ensure that an instance of the data structure can be visualy represented, e.g., in aSCII format."
   ]
  },
  {
   "cell_type": "code",
   "execution_count": 2,
   "id": "e61bec36",
   "metadata": {},
   "outputs": [],
   "source": [
    "import time\n",
    "import random\n",
    "import matplotlib.pyplot as plt\n",
    "import pandas as pd\n",
    "from pathlib import Path\n",
    "from typing import List, Tuple"
   ]
  },
  {
   "cell_type": "markdown",
   "id": "99c2fb04",
   "metadata": {},
   "source": [
    "Ternary Search Tree Implementation: \\\n",
    "    *Represents a node in a Ternary Search Tree (TST).\\\n",
    "    *Each node stores a character, a flag indicating if it's the end of a word,\\\n",
    "    *and pointers to left, middle, and right child nodes."
   ]
  },
  {
   "cell_type": "code",
   "execution_count": 3,
   "id": "9b1f47c6",
   "metadata": {},
   "outputs": [],
   "source": [
    "class TSTNode:\n",
    "    def __init__(self, char):\n",
    "        self.char = char\n",
    "        self.is_end = False\n",
    "        self.left = None\n",
    "        self.middle = None\n",
    "        self.right = None"
   ]
  },
  {
   "cell_type": "code",
   "execution_count": 4,
   "id": "fbd8f915",
   "metadata": {},
   "outputs": [],
   "source": [
    "\n",
    "class TernarySearchTree:\n",
    "    def __init__(self):\n",
    "        self.root = None\n",
    "\n",
    "    def insert(self, word):\n",
    "        if not word:\n",
    "            return\n",
    "        self.root = self._insert(self.root, word, 0)\n",
    "\n",
    "    def _insert(self, node, word, index):\n",
    "        char = word[index]\n",
    "\n",
    "        if node is None:\n",
    "            node = TSTNode(char)\n",
    "\n",
    "        if char < node.char:\n",
    "            node.left = self._insert(node.left, word, index)\n",
    "        elif char > node.char:\n",
    "            node.right = self._insert(node.right, word, index)\n",
    "        else:\n",
    "            if index + 1 < len(word):\n",
    "                node.middle = self._insert(node.middle, word, index + 1)\n",
    "            else:\n",
    "                node.is_end = True\n",
    "        return node"
   ]
  },
  {
   "cell_type": "code",
   "execution_count": null,
   "id": "72be03b3",
   "metadata": {},
   "outputs": [],
   "source": []
  },
  {
   "cell_type": "code",
   "execution_count": null,
   "id": "b2251ba1",
   "metadata": {},
   "outputs": [],
   "source": []
  }
 ],
 "metadata": {
  "kernelspec": {
   "display_name": "APPY2025",
   "language": "python",
   "name": "python3"
  },
  "language_info": {
   "codemirror_mode": {
    "name": "ipython",
    "version": 3
   },
   "file_extension": ".py",
   "mimetype": "text/x-python",
   "name": "python",
   "nbconvert_exporter": "python",
   "pygments_lexer": "ipython3",
   "version": "3.12.7"
  }
 },
 "nbformat": 4,
 "nbformat_minor": 5
}
